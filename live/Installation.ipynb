{
 "cells": [
  {
   "cell_type": "markdown",
   "metadata": {},
   "source": [
    "# Invitation to Julia for scientific computing\n",
    "\n",
    "We will not spend much time discussing installation during the workshop. Here are some instructions;\n",
    "if you have problems, people at the workshop will help you with installing the software.\n",
    "\n",
    "For the moment, there are two installation-free solutions:\n",
    "\n",
    "- [JuliaBox](http://juliabox.org/)\n",
    "- [SageMathCloud](https://cloud.sagemath.com/)"
   ]
  },
  {
   "cell_type": "markdown",
   "metadata": {},
   "source": [
    "# Installing Julia\n",
    "\n",
    "## Binary install\n",
    "\n",
    "The simplest way to install Julia is with a binary install: download an installer for your operating system from [here](http://julialang.org/downloads/).\n",
    "\n",
    "If you use Windows, you will also want (need) to install [`git` for Windows](https://msysgit.github.io/),\n",
    "which provides a Unix-like shell."
   ]
  },
  {
   "cell_type": "markdown",
   "metadata": {},
   "source": [
    "## Source install\n",
    "\n",
    "The install from source (which requires compiling Julia itself) takes around 1 hour.\n",
    "At the prompt in a shell, do"
   ]
  },
  {
   "cell_type": "code",
   "execution_count": null,
   "metadata": {
    "collapsed": true
   },
   "outputs": [],
   "source": [
    "$ git clone git@github.com:JuliaLang/julia.git\n",
    "$ cd julia\n",
    "$ git checkout release-0.3\n",
    "$ make -j 4"
   ]
  },
  {
   "cell_type": "markdown",
   "metadata": {},
   "source": [
    "Leave out the line `git checkout release-0.3` to have the development v0.4 version.\n",
    "\n",
    "The number 4 in the last line is the number of processors that will be used for the build.\n",
    "It requires various other tools to be already installed, in particular C, C++ and Fortran compilers, `cmake` and `m4`; see full details in the Julia README [here](https://github.com/JuliaLang/julia)."
   ]
  },
  {
   "cell_type": "markdown",
   "metadata": {},
   "source": [
    "# Juno\n",
    "\n",
    "Juno is a great IDE (Integrated Development Environment) for Julia.\n",
    "It can also be downloaded from [here](http://julialang.org/downloads/); see also <http://junolab.org>."
   ]
  },
  {
   "cell_type": "markdown",
   "metadata": {},
   "source": [
    "# IJulia\n",
    "\n",
    "[IJulia](https://github.com/JuliaLang/IJulia.jl) is a Julia interface for the [Jupyter (formerly IPython) notebook](http://ipython.org/)\n",
    "that we will use extensively. \n",
    "\n",
    "These notebooks are written with version 3 of IPython/Jupyter. If you have previously installed IPython, you must check the version of IPython by running it from the command line and checking which version it is, or just using"
   ]
  },
  {
   "cell_type": "code",
   "execution_count": null,
   "metadata": {
    "collapsed": true
   },
   "outputs": [],
   "source": [
    "> ipython --version"
   ]
  },
  {
   "cell_type": "markdown",
   "metadata": {},
   "source": [
    "*Only versions 2.4 and above* can read notebooks produced by IPython. We highly recommend that you install the latest stable version (currently 3.1) of IPython."
   ]
  },
  {
   "cell_type": "markdown",
   "metadata": {},
   "source": [
    "## Install IPython/Jupyter\n",
    "\n",
    "First you must install IPython/Jupyter. (Currently, the parts of IPython which are not directly related to Python are in the process of being separated out into a package called Jupyter.) The simplest way to do so is to install the free [Anaconda Python distribution](http://continuum.io/downloads), which includes IPython, the `matplotlib` plotting library, and many other useful Python packages."
   ]
  },
  {
   "cell_type": "markdown",
   "metadata": {},
   "source": [
    "If you prefer something more lightweight, you can use `pip` (an installer for Python packages):"
   ]
  },
  {
   "cell_type": "code",
   "execution_count": null,
   "metadata": {
    "collapsed": true
   },
   "outputs": [],
   "source": [
    "pip install --upgrade ipython[all]"
   ]
  },
  {
   "cell_type": "markdown",
   "metadata": {},
   "source": [
    "On Ubuntu, you may [depending which packages you already have installed] first need to do"
   ]
  },
  {
   "cell_type": "code",
   "execution_count": null,
   "metadata": {
    "collapsed": true
   },
   "outputs": [],
   "source": [
    "sudo apt-get install python-dev\n",
    "sudo apt-get install python-pip"
   ]
  },
  {
   "cell_type": "markdown",
   "metadata": {},
   "source": [
    "On Mac OSX you will need to add the two lines"
   ]
  },
  {
   "cell_type": "code",
   "execution_count": null,
   "metadata": {
    "collapsed": true
   },
   "outputs": [],
   "source": [
    "export LC_ALL=en_US.UTF-8\n",
    "export LANG=en_US.UTF-8"
   ]
  },
  {
   "cell_type": "markdown",
   "metadata": {},
   "source": [
    "to the `.bash_profile` file in your home directory (or create that file with that content if it does not already exist).\n",
    "\n",
    "\n",
    "## Installing the IJulia package\n",
    "\n",
    "Once the IPython notebook has been installed, run Julia, and *from within Julia* add the IJulia package:"
   ]
  },
  {
   "cell_type": "code",
   "execution_count": null,
   "metadata": {
    "attributes": {
     "classes": [
      "julia"
     ],
     "id": ""
    },
    "collapsed": true
   },
   "outputs": [],
   "source": [
    "julia> Pkg.add(\"IJulia\")"
   ]
  },
  {
   "cell_type": "markdown",
   "metadata": {},
   "source": [
    "After several things have been installed, you should see a message saying that IJulia successfully found your IPython installation and\n",
    "has created the necessary files."
   ]
  },
  {
   "cell_type": "markdown",
   "metadata": {},
   "source": [
    "If you have problems during the process of building `IJulia`, you can try rebuilding it using"
   ]
  },
  {
   "cell_type": "code",
   "execution_count": null,
   "metadata": {
    "collapsed": true
   },
   "outputs": [],
   "source": [
    "julia> Pkg.build(\"IJulia\")"
   ]
  }
 ],
 "metadata": {
  "kernelspec": {
   "display_name": "Julia 0.3.10-pre",
   "language": "julia",
   "name": "julia-0.3"
  },
  "language_info": {
   "name": "julia",
   "version": "0.3.10"
  }
 },
 "nbformat": 4,
 "nbformat_minor": 0
}
