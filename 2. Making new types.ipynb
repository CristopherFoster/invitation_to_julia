{
 "cells": [
  {
   "cell_type": "markdown",
   "metadata": {},
   "source": [
    "# Example: Modelling a gas"
   ]
  },
  {
   "cell_type": "markdown",
   "metadata": {},
   "source": [
    "Suppose that I want to simulate a gas, i.e. a collection of particles in a two-dimensional box that move around.\n",
    "A particle has a position, which is a 2D vector, a velocity, which is another 2D vector, and a mass, that is a real number. How can I represent this in Julia?"
   ]
  },
  {
   "cell_type": "markdown",
   "metadata": {},
   "source": [
    "# User-defined types "
   ]
  },
  {
   "cell_type": "markdown",
   "metadata": {},
   "source": [
    "As we have started to see, the basic types in Julia, such as `Complex`, are defined in Julia code.\n",
    "They are treated on the same footing as types defined by the user.\n",
    "\n",
    "Composite types in Julia are just boxes that hold data and provide constructor functions for making new objects of that type. They *do not contain methods (functions)* (as would be the case in many other object-oriented languages); rather, the methods are defined using multiple dispatch."
   ]
  },
  {
   "cell_type": "markdown",
   "metadata": {},
   "source": [
    "## Example: Fixed-size vectors "
   ]
  },
  {
   "cell_type": "markdown",
   "metadata": {},
   "source": [
    "Currently, there are no fixed-size vectors in base Julia (although these are available, for example, in the `ImmutableArrays` and `FixedSizeVectors` packages). For many applications, fixed-size vectors are useful, for example for representing positions of particles moving in 2D or 3D space. We can define our own type that may prove to be more efficient than Julia's `Array` type."
   ]
  },
  {
   "cell_type": "markdown",
   "metadata": {},
   "source": [
    "The basic syntax for defining a composite type is"
   ]
  },
  {
   "cell_type": "code",
   "execution_count": 1,
   "metadata": {
    "collapsed": true
   },
   "outputs": [],
   "source": [
    "type Vector2D\n",
    "    x::Float64\n",
    "    y::Float64\n",
    "end"
   ]
  },
  {
   "cell_type": "code",
   "execution_count": 2,
   "metadata": {
    "collapsed": false
   },
   "outputs": [
    {
     "data": {
      "text/plain": [
       "Vector2D (constructor with 2 methods)"
      ]
     },
     "execution_count": 2,
     "metadata": {},
     "output_type": "execute_result"
    }
   ],
   "source": [
    "Vector2D"
   ]
  },
  {
   "cell_type": "code",
   "execution_count": 3,
   "metadata": {
    "collapsed": false
   },
   "outputs": [
    {
     "data": {
      "text/html": [
       "2 methods for generic function <b>Vector2D</b>:<ul><li> Vector2D(x::<b>Float64</b>,y::<b>Float64</b>)<li> Vector2D(x,y)</ul>"
      ],
      "text/plain": [
       "# 2 methods for generic function \"Vector2D\":\n",
       "Vector2D(x::Float64,y::Float64)\n",
       "Vector2D(x,y)"
      ]
     },
     "execution_count": 3,
     "metadata": {},
     "output_type": "execute_result"
    }
   ],
   "source": [
    "methods(Vector2D)"
   ]
  },
  {
   "cell_type": "markdown",
   "metadata": {},
   "source": [
    "The double colon (`::`) is a **type annotation** that specifies the type of `x` and `y`."
   ]
  },
  {
   "cell_type": "markdown",
   "metadata": {},
   "source": [
    "Let's  check which methods have been defined:"
   ]
  },
  {
   "cell_type": "code",
   "execution_count": null,
   "metadata": {
    "collapsed": false
   },
   "outputs": [],
   "source": [
    "methods(Vector2D)"
   ]
  },
  {
   "cell_type": "code",
   "execution_count": 4,
   "metadata": {
    "collapsed": false
   },
   "outputs": [
    {
     "data": {
      "text/plain": [
       "Vector2D(3.5,4.5)"
      ]
     },
     "execution_count": 4,
     "metadata": {},
     "output_type": "execute_result"
    }
   ],
   "source": [
    "v = Vector2D(3.5, 4.5)"
   ]
  },
  {
   "cell_type": "code",
   "execution_count": 5,
   "metadata": {
    "collapsed": false
   },
   "outputs": [
    {
     "data": {
      "text/plain": [
       "Vector2D(3.5,4.5)"
      ]
     },
     "execution_count": 5,
     "metadata": {},
     "output_type": "execute_result"
    }
   ],
   "source": [
    "v"
   ]
  },
  {
   "cell_type": "code",
   "execution_count": 6,
   "metadata": {
    "collapsed": false
   },
   "outputs": [
    {
     "data": {
      "text/plain": [
       "Vector2D (constructor with 2 methods)"
      ]
     },
     "execution_count": 6,
     "metadata": {},
     "output_type": "execute_result"
    }
   ],
   "source": [
    "typeof(v)"
   ]
  },
  {
   "cell_type": "code",
   "execution_count": 7,
   "metadata": {
    "collapsed": false
   },
   "outputs": [
    {
     "data": {
      "text/plain": [
       "Vector2D(3.0,4.0)"
      ]
     },
     "execution_count": 7,
     "metadata": {},
     "output_type": "execute_result"
    }
   ],
   "source": [
    "Vector2D(3, 4)"
   ]
  },
  {
   "cell_type": "code",
   "execution_count": 9,
   "metadata": {
    "collapsed": false
   },
   "outputs": [
    {
     "data": {
      "text/plain": [
       "Vector2D(945.0,100.0)"
      ]
     },
     "execution_count": 9,
     "metadata": {},
     "output_type": "execute_result"
    }
   ],
   "source": [
    "Vector2D('α', 'd')"
   ]
  },
  {
   "cell_type": "code",
   "execution_count": 10,
   "metadata": {
    "collapsed": false
   },
   "outputs": [
    {
     "data": {
      "text/plain": [
       "3"
      ]
     },
     "execution_count": 10,
     "metadata": {},
     "output_type": "execute_result"
    }
   ],
   "source": [
    "v = 3"
   ]
  },
  {
   "cell_type": "code",
   "execution_count": 11,
   "metadata": {
    "collapsed": false
   },
   "outputs": [
    {
     "data": {
      "text/plain": [
       "Int64"
      ]
     },
     "execution_count": 11,
     "metadata": {},
     "output_type": "execute_result"
    }
   ],
   "source": [
    "typeof(v)"
   ]
  },
  {
   "cell_type": "code",
   "execution_count": 12,
   "metadata": {
    "collapsed": false
   },
   "outputs": [
    {
     "data": {
      "text/plain": [
       "3"
      ]
     },
     "execution_count": 12,
     "metadata": {},
     "output_type": "execute_result"
    }
   ],
   "source": [
    "v"
   ]
  },
  {
   "cell_type": "code",
   "execution_count": 13,
   "metadata": {
    "collapsed": false
   },
   "outputs": [
    {
     "data": {
      "text/plain": [
       "show (generic function with 92 methods)"
      ]
     },
     "execution_count": 13,
     "metadata": {},
     "output_type": "execute_result"
    }
   ],
   "source": [
    "Base.show(io::IO, x::Int) = print(io, \"HELLO($x)\")"
   ]
  },
  {
   "cell_type": "code",
   "execution_count": 14,
   "metadata": {
    "collapsed": false
   },
   "outputs": [
    {
     "data": {
      "text/plain": [
       "HELLO(3)"
      ]
     },
     "execution_count": 14,
     "metadata": {},
     "output_type": "execute_result"
    }
   ],
   "source": [
    "3"
   ]
  },
  {
   "cell_type": "code",
   "execution_count": 15,
   "metadata": {
    "collapsed": true
   },
   "outputs": [],
   "source": [
    "using SymPy"
   ]
  },
  {
   "cell_type": "code",
   "execution_count": 16,
   "metadata": {
    "collapsed": false
   },
   "outputs": [
    {
     "data": {
      "text/latex": [
       "$$x$$"
      ],
      "text/plain": [
       "x"
      ]
     },
     "execution_count": 16,
     "metadata": {},
     "output_type": "execute_result"
    }
   ],
   "source": [
    "x = symbols(\"x\")"
   ]
  },
  {
   "cell_type": "code",
   "execution_count": 17,
   "metadata": {
    "collapsed": false
   },
   "outputs": [
    {
     "ename": "LoadError",
     "evalue": "`convert` has no method matching convert(::Type{Float64}, ::ASCIIString)\nwhile loading In[17], in expression starting on line 1",
     "output_type": "error",
     "traceback": [
      "`convert` has no method matching convert(::Type{Float64}, ::ASCIIString)\nwhile loading In[17], in expression starting on line 1",
      "",
      " in Vector2D at no file"
     ]
    }
   ],
   "source": [
    "v = Vector2D(\"a\", \"b\")"
   ]
  },
  {
   "cell_type": "code",
   "execution_count": 18,
   "metadata": {
    "collapsed": false
   },
   "outputs": [
    {
     "data": {
      "text/plain": [
       "Vector2D(5.0,6.0)"
      ]
     },
     "execution_count": 18,
     "metadata": {},
     "output_type": "execute_result"
    }
   ],
   "source": [
    "v = Vector2D(3, 4)\n",
    "w = Vector2D(5, 6)"
   ]
  },
  {
   "cell_type": "markdown",
   "metadata": {},
   "source": [
    "What happens if we try to add two `Vector2D`s?"
   ]
  },
  {
   "cell_type": "code",
   "execution_count": 19,
   "metadata": {
    "collapsed": false
   },
   "outputs": [
    {
     "ename": "LoadError",
     "evalue": "`+` has no method matching +(::Vector2D, ::Vector2D)\nwhile loading In[19], in expression starting on line 1",
     "output_type": "error",
     "traceback": [
      "`+` has no method matching +(::Vector2D, ::Vector2D)\nwhile loading In[19], in expression starting on line 1",
      ""
     ]
    }
   ],
   "source": [
    "v + w"
   ]
  },
  {
   "cell_type": "markdown",
   "metadata": {},
   "source": [
    "Julia confirms that it has no idea how to do so. So let's just try defining it:"
   ]
  },
  {
   "cell_type": "code",
   "execution_count": 20,
   "metadata": {
    "collapsed": false
   },
   "outputs": [
    {
     "data": {
      "text/plain": [
       "+ (generic function with 140 methods)"
      ]
     },
     "execution_count": 20,
     "metadata": {},
     "output_type": "execute_result"
    }
   ],
   "source": [
    "+(a::Vector2D, b::Vector2D) = Vector2D(a.x+b.x, a.y+b.y)"
   ]
  },
  {
   "cell_type": "code",
   "execution_count": 27,
   "metadata": {
    "collapsed": true
   },
   "outputs": [],
   "source": [
    "workspace()  # clear the workspace"
   ]
  },
  {
   "cell_type": "code",
   "execution_count": 26,
   "metadata": {
    "collapsed": false
   },
   "outputs": [
    {
     "ename": "LoadError",
     "evalue": "Vector2D not defined\nwhile loading In[26], in expression starting on line 1",
     "output_type": "error",
     "traceback": [
      "Vector2D not defined\nwhile loading In[26], in expression starting on line 1",
      ""
     ]
    }
   ],
   "source": [
    "Vector2D"
   ]
  },
  {
   "cell_type": "code",
   "execution_count": 30,
   "metadata": {
    "collapsed": false
   },
   "outputs": [
    {
     "name": "stdout",
     "output_type": "stream",
     "text": [
      "0. Invitation to Julia.ipynb\n",
      "1. Starting out.ipynb\n",
      "2. Making new types.ipynb\n",
      "3. Metaprogramming.ipynb\n",
      "4. In search of performance.ipynb\n",
      "5. Developing a package.ipynb\n",
      "Installation.ipynb\n",
      "LICENSE.md\n",
      "README.md\n",
      "Vector2D.jl\n",
      "unam_photos.jpg\n"
     ]
    }
   ],
   "source": [
    ";ls"
   ]
  },
  {
   "cell_type": "code",
   "execution_count": 33,
   "metadata": {
    "collapsed": false
   },
   "outputs": [
    {
     "data": {
      "text/plain": [
       "Array{Float64,HELLO(1)}"
      ]
     },
     "execution_count": 33,
     "metadata": {},
     "output_type": "execute_result"
    }
   ],
   "source": [
    "Vector{Float64}"
   ]
  },
  {
   "cell_type": "code",
   "execution_count": 31,
   "metadata": {
    "collapsed": false
   },
   "outputs": [
    {
     "data": {
      "text/plain": [
       "+ (generic function with 141 methods)"
      ]
     },
     "execution_count": 31,
     "metadata": {},
     "output_type": "execute_result"
    }
   ],
   "source": [
    "include(\"Vector2D.jl\")"
   ]
  },
  {
   "cell_type": "code",
   "execution_count": 32,
   "metadata": {
    "collapsed": false
   },
   "outputs": [
    {
     "data": {
      "text/plain": [
       "Vector2D (constructor with 2 methods)"
      ]
     },
     "execution_count": 32,
     "metadata": {},
     "output_type": "execute_result"
    }
   ],
   "source": [
    "Vector2D"
   ]
  },
  {
   "cell_type": "code",
   "execution_count": 21,
   "metadata": {
    "collapsed": false
   },
   "outputs": [
    {
     "data": {
      "text/plain": [
       "Vector2D(8.0,10.0)"
      ]
     },
     "execution_count": 21,
     "metadata": {},
     "output_type": "execute_result"
    }
   ],
   "source": [
    "v + w"
   ]
  },
  {
   "cell_type": "code",
   "execution_count": 22,
   "metadata": {
    "collapsed": false
   },
   "outputs": [
    {
     "data": {
      "text/plain": [
       "HELLO(17)"
      ]
     },
     "execution_count": 22,
     "metadata": {},
     "output_type": "execute_result"
    }
   ],
   "source": [
    "const aaa = 17"
   ]
  },
  {
   "cell_type": "code",
   "execution_count": 23,
   "metadata": {
    "collapsed": false
   },
   "outputs": [
    {
     "ename": "LoadError",
     "evalue": "invalid redefinition of constant aaa\nwhile loading In[23], in expression starting on line 1",
     "output_type": "error",
     "traceback": [
      "invalid redefinition of constant aaa\nwhile loading In[23], in expression starting on line 1",
      ""
     ]
    }
   ],
   "source": [
    "aaa = 13.5"
   ]
  },
  {
   "cell_type": "code",
   "execution_count": 24,
   "metadata": {
    "collapsed": false
   },
   "outputs": [
    {
     "name": "stderr",
     "output_type": "stream",
     "text": [
      "Warning: redefining constant aaa\n"
     ]
    },
    {
     "data": {
      "text/plain": [
       "HELLO(117)"
      ]
     },
     "execution_count": 24,
     "metadata": {},
     "output_type": "execute_result"
    }
   ],
   "source": [
    "aaa = 117"
   ]
  },
  {
   "cell_type": "code",
   "execution_count": 34,
   "metadata": {
    "collapsed": false
   },
   "outputs": [
    {
     "name": "stderr",
     "output_type": "stream",
     "text": [
      "Warning: Method definition IPv4(String,) in module Compat at /Users/dsanders/.julia/v0.3/Compat/src/Compat.jl:41 overwritten in module Compat at /Users/dsanders/.julia/v0.3/Compat/src/Compat.jl:41.\n",
      "Warning: Method definition IPv6(String,) in module Compat at /Users/dsanders/.julia/v0.3/Compat/src/Compat.jl:42 overwritten in module Compat at /Users/dsanders/.julia/v0.3/Compat/src/Compat.jl:42.\n",
      "Warning: Method definition isless(T<:IpAddr,T<:IpAddr) in module Compat at /Users/dsanders/.julia/v0.3/Compat/src/Compat.jl:47 overwritten in module Compat at /Users/dsanders/.julia/v0.3/Compat/src/Compat.jl:47.\n",
      "Warning: Method definition Dict(Any,) in module Compat at /Users/dsanders/.julia/v0.3/Compat/src/Compat.jl:59 overwritten in module Compat at /Users/dsanders/.julia/v0.3/Compat/src/Compat.jl:59.\n",
      "Warning: Method definition round(Type{T<:Integer},Integer) in module Compat at /Users/dsanders/.julia/v0.3/Compat/src/Compat.jl:75 overwritten in module Compat at /Users/dsanders/.julia/v0.3/Compat/src/Compat.jl:75.\n",
      "Warning: Method definition round(Type{T<:Integer},Real) in module Compat at /Users/dsanders/.julia/v0.3/Compat/src/Compat.jl:76 overwritten in module Compat at /Users/dsanders/.julia/v0.3/Compat/src/Compat.jl:76.\n",
      "Warning: Method definition round(Type{T<:Integer},Rational{T<:Integer}) in module Compat at /Users/dsanders/.julia/v0.3/Compat/src/Compat.jl:77 overwritten in module Compat at /Users/dsanders/.julia/v0.3/Compat/src/Compat.jl:77.\n",
      "Warning: Method definition round(Type{T},AbstractArray{R,HELLO(1)}) in module Compat at /Users/dsanders/.julia/v0.3/Compat/src/Compat.jl:79 overwritten in module Compat at /Users/dsanders/.julia/v0.3/Compat/src/Compat.jl:79.\n",
      "Warning: Method definition round(Type{T},AbstractArray{R,HELLO(2)}) in module Compat at /Users/dsanders/.julia/v0.3/Compat/src/Compat.jl:82 overwritten in module Compat at /Users/dsanders/.julia/v0.3/Compat/src/Compat.jl:82.\n",
      "Warning: Method definition round(Type{T},AbstractArray{T,N}) in module Compat at /Users/dsanders/.julia/v0.3/Compat/src/Compat.jl:85 overwritten in module Compat at /Users/dsanders/.julia/v0.3/Compat/src/Compat.jl:85.\n",
      "Warning: Method definition ceil(Type{T<:Integer},Integer) in module Compat at /Users/dsanders/.julia/v0.3/Compat/src/Compat.jl:75 overwritten in module Compat at /Users/dsanders/.julia/v0.3/Compat/src/Compat.jl:75.\n",
      "Warning: Method definition ceil(Type{T<:Integer},Real) in module Compat at /Users/dsanders/.julia/v0.3/Compat/src/Compat.jl:76 overwritten in module Compat at /Users/dsanders/.julia/v0.3/Compat/src/Compat.jl:76.\n",
      "Warning: Method definition ceil(Type{T<:Integer},Rational{T<:Integer}) in module Compat at /Users/dsanders/.julia/v0.3/Compat/src/Compat.jl:77 overwritten in module Compat at /Users/dsanders/.julia/v0.3/Compat/src/Compat.jl:77.\n",
      "Warning: Method definition ceil(Type{T},AbstractArray{R,HELLO(1)}) in module Compat at /Users/dsanders/.julia/v0.3/Compat/src/Compat.jl:79 overwritten in module Compat at /Users/dsanders/.julia/v0.3/Compat/src/Compat.jl:79.\n",
      "Warning: Method definition ceil(Type{T},AbstractArray{R,HELLO(2)}) in module Compat at /Users/dsanders/.julia/v0.3/Compat/src/Compat.jl:82 overwritten in module Compat at /Users/dsanders/.julia/v0.3/Compat/src/Compat.jl:82.\n",
      "Warning: Method definition ceil(Type{T},AbstractArray{T,N}) in module Compat at /Users/dsanders/.julia/v0.3/Compat/src/Compat.jl:85 overwritten in module Compat at /Users/dsanders/.julia/v0.3/Compat/src/Compat.jl:85.\n",
      "Warning: Method definition floor(Type{T<:Integer},Integer) in module Compat at /Users/dsanders/.julia/v0.3/Compat/src/Compat.jl:75 overwritten in module Compat at /Users/dsanders/.julia/v0.3/Compat/src/Compat.jl:75.\n",
      "Warning: Method definition floor(Type{T<:Integer},Real) in module Compat at /Users/dsanders/.julia/v0.3/Compat/src/Compat.jl:76 overwritten in module Compat at /Users/dsanders/.julia/v0.3/Compat/src/Compat.jl:76.\n",
      "Warning: Method definition floor(Type{T<:Integer},Rational{T<:Integer}) in module Compat at /Users/dsanders/.julia/v0.3/Compat/src/Compat.jl:77 overwritten in module Compat at /Users/dsanders/.julia/v0.3/Compat/src/Compat.jl:77.\n",
      "Warning: Method definition floor(Type{T},AbstractArray{R,HELLO(1)}) in module Compat at /Users/dsanders/.julia/v0.3/Compat/src/Compat.jl:79 overwritten in module Compat at /Users/dsanders/.julia/v0.3/Compat/src/Compat.jl:79.\n",
      "Warning: Method definition floor(Type{T},AbstractArray{R,HELLO(2)}) in module Compat at /Users/dsanders/.julia/v0.3/Compat/src/Compat.jl:82 overwritten in module Compat at /Users/dsanders/.julia/v0.3/Compat/src/Compat.jl:82.\n",
      "Warning: Method definition floor(Type{T},AbstractArray{T,N}) in module Compat at /Users/dsanders/.julia/v0.3/Compat/src/Compat.jl:85 overwritten in module Compat at /Users/dsanders/.julia/v0.3/Compat/src/Compat.jl:85.\n",
      "Warning: Method definition trunc(Type{T<:Integer},Integer) in module Compat at /Users/dsanders/.julia/v0.3/Compat/src/Compat.jl:75 overwritten in module Compat at /Users/dsanders/.julia/v0.3/Compat/src/Compat.jl:75.\n",
      "Warning: Method definition trunc(Type{T<:Integer},Real) in module Compat at /Users/dsanders/.julia/v0.3/Compat/src/Compat.jl:76 overwritten in module Compat at /Users/dsanders/.julia/v0.3/Compat/src/Compat.jl:76.\n",
      "Warning: Method definition trunc(Type{T<:Integer},Rational{T<:Integer}) in module Compat at /Users/dsanders/.julia/v0.3/Compat/src/Compat.jl:77 overwritten in module Compat at /Users/dsanders/.julia/v0.3/Compat/src/Compat.jl:77.\n",
      "Warning: Method definition trunc(Type{T},AbstractArray{R,HELLO(1)}) in module Compat at /Users/dsanders/.julia/v0.3/Compat/src/Compat.jl:79 overwritten in module Compat at /Users/dsanders/.julia/v0.3/Compat/src/Compat.jl:79.\n",
      "Warning: Method definition trunc(Type{T},AbstractArray{R,HELLO(2)}) in module Compat at /Users/dsanders/.julia/v0.3/Compat/src/Compat.jl:82 overwritten in module Compat at /Users/dsanders/.julia/v0.3/Compat/src/Compat.jl:82.\n",
      "Warning: Method definition trunc(Type{T},AbstractArray{T,N}) in module Compat at /Users/dsanders/.julia/v0.3/Compat/src/Compat.jl:85 overwritten in module Compat at /Users/dsanders/.julia/v0.3/Compat/src/Compat.jl:85.\n",
      "Warning: Method definition rand(Type{Bool},) in module Compat at /Users/dsanders/.julia/v0.3/Compat/src/Compat.jl:192 overwritten in module Compat at /Users/dsanders/.julia/v0.3/Compat/src/Compat.jl:192.\n",
      "Warning: Method definition parse(Type{T<:Integer},Char) in module Compat at /Users/dsanders/.julia/v0.3/Compat/src/Compat.jl:213 overwritten in module Compat at /Users/dsanders/.julia/v0.3/Compat/src/Compat.jl:213.\n",
      "Warning: Method definition parse(Type{T<:Integer},Char,Integer) in module Compat at /Users/dsanders/.julia/v0.3/Compat/src/Compat.jl:214 overwritten in module Compat at /Users/dsanders/.julia/v0.3/Compat/src/Compat.jl:214.\n",
      "Warning: Method definition parse(Type{T<:Integer},String) in module Compat at /Users/dsanders/.julia/v0.3/Compat/src/Compat.jl:215 overwritten in module Compat at /Users/dsanders/.julia/v0.3/Compat/src/Compat.jl:215.\n",
      "Warning: Method definition parse(Type{T<:Integer},String,Integer) in module Compat at /Users/dsanders/.julia/v0.3/Compat/src/Compat.jl:216 overwritten in module Compat at /Users/dsanders/.julia/v0.3/Compat/src/Compat.jl:216.\n",
      "Warning: Method definition parse(Type{T<:Union(Float32,Float64)},String) in module Compat at /Users/dsanders/.julia/v0.3/Compat/src/Compat.jl:217 overwritten in module Compat at /Users/dsanders/.julia/v0.3/Compat/src/Compat.jl:217.\n",
      "Warning: Method definition parse(Type{BigFloat},String) in module Compat at /Users/dsanders/.julia/v0.3/Compat/src/Compat.jl:221 overwritten in module Compat at /Users/dsanders/.julia/v0.3/Compat/src/Compat.jl:221.\n",
      "Warning: Method definition isvalid(Char,) in module Compat at /Users/dsanders/.julia/v0.3/Compat/src/Compat.jl:445 overwritten in module Compat at /Users/dsanders/.julia/v0.3/Compat/src/Compat.jl:445.\n",
      "Warning: Method definition isvalid(ASCIIString,) in module Compat at /Users/dsanders/.julia/v0.3/Compat/src/Compat.jl:446 overwritten in module Compat at /Users/dsanders/.julia/v0.3/Compat/src/Compat.jl:446.\n",
      "Warning: Method definition isvalid(UTF8String,) in module Compat at /Users/dsanders/.julia/v0.3/Compat/src/Compat.jl:447 overwritten in module Compat at /Users/dsanders/.julia/v0.3/Compat/src/Compat.jl:447.\n",
      "Warning: Method definition isvalid(UTF16String,) in module Compat at /Users/dsanders/.julia/v0.3/Compat/src/Compat.jl:448 overwritten in module Compat at /Users/dsanders/.julia/v0.3/Compat/src/Compat.jl:448.\n",
      "Warning: Method definition isvalid(UTF32String,) in module Compat at /Users/dsanders/.julia/v0.3/Compat/src/Compat.jl:449 overwritten in module Compat at /Users/dsanders/.julia/v0.3/Compat/src/Compat.jl:449.\n",
      "Warning: Method definition isvalid(Type{Char},Any) in module Compat at /Users/dsanders/.julia/v0.3/Compat/src/Compat.jl:450 overwritten in module Compat at /Users/dsanders/.julia/v0.3/Compat/src/Compat.jl:450.\n",
      "Warning: Method definition isvalid(Type{ASCIIString},Any) in module Compat at /Users/dsanders/.julia/v0.3/Compat/src/Compat.jl:451 overwritten in module Compat at /Users/dsanders/.julia/v0.3/Compat/src/Compat.jl:451.\n",
      "Warning: Method definition isvalid(Type{UTF8String},Any) in module Compat at /Users/dsanders/.julia/v0.3/Compat/src/Compat.jl:452 overwritten in module Compat at /Users/dsanders/.julia/v0.3/Compat/src/Compat.jl:452.\n",
      "Warning: Method definition isvalid(Type{UTF16String},Any) in module Compat at /Users/dsanders/.julia/v0.3/Compat/src/Compat.jl:453 overwritten in module Compat at /Users/dsanders/.julia/v0.3/Compat/src/Compat.jl:453.\n",
      "Warning: Method definition isvalid(Type{UTF32String},Any) in module Compat at /Users/dsanders/.julia/v0.3/Compat/src/Compat.jl:454 overwritten in module Compat at /Users/dsanders/.julia/v0.3/Compat/src/Compat.jl:454.\n",
      "Warning: Method definition Timer(Function,Real) in module Compat at /Users/dsanders/.julia/v0.3/Compat/src/timer.jl:69 overwritten in module Compat at /Users/dsanders/.julia/v0.3/Compat/src/timer.jl:69.\n",
      "Warning: Method definition Timer(Function,Real,Real) in module Compat at /Users/dsanders/.julia/v0.3/Compat/src/timer.jl:69 overwritten in module Compat at /Users/dsanders/.julia/v0.3/Compat/src/timer.jl:69.\n",
      "Warning: Method definition Timer(Real,) in module Compat at /Users/dsanders/.julia/v0.3/Compat/src/timer.jl:79 overwritten in module Compat at /Users/dsanders/.julia/v0.3/Compat/src/timer.jl:79.\n",
      "Warning: Method definition Timer(Real,Real) in module Compat at /Users/dsanders/.julia/v0.3/Compat/src/timer.jl:79 overwritten in module Compat at /Users/dsanders/.julia/v0.3/Compat/src/timer.jl:79.\n",
      "INFO: Loading help data...\n"
     ]
    }
   ],
   "source": [
    "using PyPlot"
   ]
  },
  {
   "cell_type": "code",
   "execution_count": 36,
   "metadata": {
    "collapsed": false
   },
   "outputs": [
    {
     "ename": "LoadError",
     "evalue": "use not defined\nwhile loading In[36], in expression starting on line 1",
     "output_type": "error",
     "traceback": [
      "use not defined\nwhile loading In[36], in expression starting on line 1",
      ""
     ]
    }
   ],
   "source": [
    "\n",
    "plt.use(\"ggplot\")"
   ]
  },
  {
   "cell_type": "code",
   "execution_count": 35,
   "metadata": {
    "collapsed": false
   },
   "outputs": [
    {
     "data": {
      "image/png": "[encoded data removed]",
      "text/plain": [
       "Figure(PyObject <matplotlib.figure.Figure object at 0x115a02c50>)"
      ]
     },
     "metadata": {},
     "output_type": "display_data"
    },
    {
     "data": {
      "text/plain": [
       "1-element Array{Any,HELLO(1)}:\n",
       " PyObject <matplotlib.lines.Line2D object at 0x115b18b10>"
      ]
     },
     "execution_count": 35,
     "metadata": {},
     "output_type": "execute_result"
    }
   ],
   "source": [
    "plot(rand(10), rand(10), \"o\")"
   ]
  },
  {
   "cell_type": "markdown",
   "metadata": {},
   "source": [
    "Suddenly, it works! This is Julia's version of operator overloading -- just add a new method to the relevant operator that acts on objects of your new type."
   ]
  },
  {
   "cell_type": "code",
   "execution_count": 37,
   "metadata": {
    "collapsed": false
   },
   "outputs": [
    {
     "data": {
      "text/plain": [
       "dot (generic function with 1 method)"
      ]
     },
     "execution_count": 37,
     "metadata": {},
     "output_type": "execute_result"
    }
   ],
   "source": [
    "dot(a::Vector2D, b::Vector2D) = a.x*b.x + a.y+b.y"
   ]
  },
  {
   "cell_type": "markdown",
   "metadata": {},
   "source": [
    "Julia has certain Unicode operators defined, for example `\\cdot<TAB>`:"
   ]
  },
  {
   "cell_type": "code",
   "execution_count": 38,
   "metadata": {
    "collapsed": false
   },
   "outputs": [
    {
     "data": {
      "text/plain": [
       "dot (generic function with 7 methods)"
      ]
     },
     "execution_count": 38,
     "metadata": {},
     "output_type": "execute_result"
    }
   ],
   "source": [
    "⋅"
   ]
  },
  {
   "cell_type": "code",
   "execution_count": 43,
   "metadata": {
    "collapsed": false
   },
   "outputs": [
    {
     "data": {
      "text/plain": [
       "dot (generic function with 7 methods)"
      ]
     },
     "execution_count": 43,
     "metadata": {},
     "output_type": "execute_result"
    }
   ],
   "source": [
    "Base.dot"
   ]
  },
  {
   "cell_type": "markdown",
   "metadata": {},
   "source": [
    "We see that this operator is just an alias for the `dot` function, but that is parsed as in infix operator. So we can now write"
   ]
  },
  {
   "cell_type": "code",
   "execution_count": 46,
   "metadata": {
    "collapsed": false
   },
   "outputs": [
    {
     "data": {
      "text/plain": [
       "Vector2D(5.0,6.0)"
      ]
     },
     "execution_count": 46,
     "metadata": {},
     "output_type": "execute_result"
    }
   ],
   "source": [
    "v = Vector2D(3, 4)\n",
    "w = Vector2D(5, 6)"
   ]
  },
  {
   "cell_type": "code",
   "execution_count": 42,
   "metadata": {
    "collapsed": false
   },
   "outputs": [
    {
     "ename": "LoadError",
     "evalue": "`dot` has no method matching dot(::Vector2D, ::Vector2D)\nwhile loading In[42], in expression starting on line 1",
     "output_type": "error",
     "traceback": [
      "`dot` has no method matching dot(::Vector2D, ::Vector2D)\nwhile loading In[42], in expression starting on line 1",
      ""
     ]
    }
   ],
   "source": [
    "v ⋅ w"
   ]
  },
  {
   "cell_type": "markdown",
   "metadata": {},
   "source": [
    "It doesn't work. What's the matter? The signal was given by Julia when we defined `dot`: it said there was only 1 method. But `\\cdot<TAB>` has 7 methods. So they are different functions. The solution is that the name `dot` refers to Julia's built-in `dot` function, which is defined in Julia's standard library, called `Base`. So the true name of the function is `Base.dot`:"
   ]
  },
  {
   "cell_type": "code",
   "execution_count": null,
   "metadata": {
    "collapsed": false
   },
   "outputs": [],
   "source": [
    "Base.dot"
   ]
  },
  {
   "cell_type": "markdown",
   "metadata": {},
   "source": [
    "We thus need to *extend* this function instead:"
   ]
  },
  {
   "cell_type": "code",
   "execution_count": 47,
   "metadata": {
    "collapsed": false
   },
   "outputs": [
    {
     "data": {
      "text/plain": [
       "dot (generic function with 8 methods)"
      ]
     },
     "execution_count": 47,
     "metadata": {},
     "output_type": "execute_result"
    }
   ],
   "source": [
    "Base.dot(a::Vector2D, b::Vector2D) = a.x*b.x + a.y*b.y"
   ]
  },
  {
   "cell_type": "code",
   "execution_count": 48,
   "metadata": {
    "collapsed": false
   },
   "outputs": [
    {
     "data": {
      "text/plain": [
       "39.0"
      ]
     },
     "execution_count": 48,
     "metadata": {},
     "output_type": "execute_result"
    }
   ],
   "source": [
    "v ⋅ w"
   ]
  },
  {
   "cell_type": "markdown",
   "metadata": {},
   "source": [
    "Julia provides an `import` keyword to make this simpler when we are defining different methods for the function:"
   ]
  },
  {
   "cell_type": "code",
   "execution_count": null,
   "metadata": {
    "collapsed": false
   },
   "outputs": [],
   "source": [
    "import Base.dot"
   ]
  },
  {
   "cell_type": "code",
   "execution_count": 50,
   "metadata": {
    "collapsed": false
   },
   "outputs": [
    {
     "data": {
      "text/plain": [
       "+ (generic function with 166 methods)"
      ]
     },
     "execution_count": 50,
     "metadata": {},
     "output_type": "execute_result"
    }
   ],
   "source": [
    "include(\"Vector2D.jl\")"
   ]
  },
  {
   "cell_type": "markdown",
   "metadata": {},
   "source": [
    "This must be done *before* defining `dot`. To clear our current namespace we can use `workspace`:"
   ]
  },
  {
   "cell_type": "code",
   "execution_count": null,
   "metadata": {
    "collapsed": true
   },
   "outputs": [],
   "source": [
    "workspace()"
   ]
  },
  {
   "cell_type": "code",
   "execution_count": null,
   "metadata": {
    "collapsed": false
   },
   "outputs": [],
   "source": [
    "dot"
   ]
  },
  {
   "cell_type": "code",
   "execution_count": null,
   "metadata": {
    "collapsed": true
   },
   "outputs": [],
   "source": [
    "type Vector2D\n",
    "    x::Float64\n",
    "    y::Float64\n",
    "end"
   ]
  },
  {
   "cell_type": "code",
   "execution_count": null,
   "metadata": {
    "collapsed": true
   },
   "outputs": [],
   "source": [
    "import Base.dot"
   ]
  },
  {
   "cell_type": "code",
   "execution_count": null,
   "metadata": {
    "collapsed": false
   },
   "outputs": [],
   "source": [
    "dot(a::Vector2D, b::Vector2D) = a.x*b.x + a.y+b.y"
   ]
  },
  {
   "cell_type": "code",
   "execution_count": null,
   "metadata": {
    "collapsed": false
   },
   "outputs": [],
   "source": [
    "v = Vector2D(1, 2)\n",
    "w = Vector2D(3, 4)"
   ]
  },
  {
   "cell_type": "code",
   "execution_count": null,
   "metadata": {
    "collapsed": false
   },
   "outputs": [],
   "source": [
    "v ⋅ w"
   ]
  },
  {
   "cell_type": "code",
   "execution_count": 51,
   "metadata": {
    "collapsed": false
   },
   "outputs": [
    {
     "data": {
      "text/plain": [
       "+ (generic function with 166 methods)"
      ]
     },
     "execution_count": 51,
     "metadata": {},
     "output_type": "execute_result"
    }
   ],
   "source": [
    "include(\"Vector2D.jl\")"
   ]
  },
  {
   "cell_type": "code",
   "execution_count": 61,
   "metadata": {
    "collapsed": false
   },
   "outputs": [
    {
     "ename": "StackOverflowError",
     "evalue": "stack overflow",
     "output_type": "error",
     "traceback": [
      "stack overflow",
      "",
      " in show at In[60]:1 (repeats 80000 times)"
     ]
    }
   ],
   "source": [
    "a = [3.,4.]\n",
    "b = [5., 6.]\n",
    "\n",
    "[a, b]"
   ]
  },
  {
   "cell_type": "code",
   "execution_count": 63,
   "metadata": {
    "collapsed": false
   },
   "outputs": [
    {
     "data": {
      "text/plain": [
       "\"3\""
      ]
     },
     "execution_count": 63,
     "metadata": {},
     "output_type": "execute_result"
    }
   ],
   "source": [
    "string(3)"
   ]
  },
  {
   "cell_type": "code",
   "execution_count": 72,
   "metadata": {
    "collapsed": false
   },
   "outputs": [
    {
     "data": {
      "text/plain": [
       "show (generic function with 119 methods)"
      ]
     },
     "execution_count": 72,
     "metadata": {},
     "output_type": "execute_result"
    }
   ],
   "source": [
    "Base.show(io::IO, x::Int) = print(io, \"$x\")"
   ]
  },
  {
   "cell_type": "code",
   "execution_count": 66,
   "metadata": {
    "collapsed": false
   },
   "outputs": [
    {
     "data": {
      "text/plain": []
     },
     "execution_count": 66,
     "metadata": {},
     "output_type": "execute_result"
    }
   ],
   "source": [
    "x = 3"
   ]
  },
  {
   "cell_type": "code",
   "execution_count": 67,
   "metadata": {
    "collapsed": false
   },
   "outputs": [
    {
     "name": "stdout",
     "output_type": "stream",
     "text": [
      "3 + 5 = 8\n"
     ]
    }
   ],
   "source": [
    "println(\"3 + 5 = $(x+5)\")"
   ]
  },
  {
   "cell_type": "code",
   "execution_count": 69,
   "metadata": {
    "collapsed": false
   },
   "outputs": [
    {
     "data": {
      "text/plain": [
       "\"3 + 5 =8; hello\""
      ]
     },
     "execution_count": 69,
     "metadata": {},
     "output_type": "execute_result"
    }
   ],
   "source": [
    "string(\"3 + 5 =\", 3+5, \"; hello\")"
   ]
  },
  {
   "cell_type": "code",
   "execution_count": 70,
   "metadata": {
    "collapsed": false
   },
   "outputs": [
    {
     "data": {
      "text/plain": [
       "2-element Array{Float64,}:\n",
       " 3.0\n",
       " 4.5"
      ]
     },
     "execution_count": 70,
     "metadata": {},
     "output_type": "execute_result"
    }
   ],
   "source": [
    "[3, 4.5]"
   ]
  },
  {
   "cell_type": "code",
   "execution_count": 76,
   "metadata": {
    "collapsed": true
   },
   "outputs": [],
   "source": [
    "workspace()"
   ]
  },
  {
   "cell_type": "code",
   "execution_count": 4,
   "metadata": {
    "collapsed": false
   },
   "outputs": [
    {
     "data": {
      "text/plain": [
       "3-element Array{Any,1}:\n",
       " 3       \n",
       " 4.5     \n",
       "  \"hello\""
      ]
     },
     "execution_count": 4,
     "metadata": {},
     "output_type": "execute_result"
    }
   ],
   "source": [
    "q = [3, 4.5, \"hello\"]"
   ]
  },
  {
   "cell_type": "code",
   "execution_count": 5,
   "metadata": {
    "collapsed": false
   },
   "outputs": [
    {
     "data": {
      "text/plain": [
       "4-element Array{Any,1}:\n",
       "  3       \n",
       "  4.5     \n",
       "   \"hello\"\n",
       " -1       "
      ]
     },
     "execution_count": 5,
     "metadata": {},
     "output_type": "execute_result"
    }
   ],
   "source": [
    "push!(q, -1)"
   ]
  },
  {
   "cell_type": "code",
   "execution_count": 6,
   "metadata": {
    "collapsed": false
   },
   "outputs": [
    {
     "ename": "LoadError",
     "evalue": "BoundsError()\nwhile loading In[6], in expression starting on line 1",
     "output_type": "error",
     "traceback": [
      "BoundsError()\nwhile loading In[6], in expression starting on line 1",
      "",
      " in getindex at /Users/dsanders/development/julia/usr/lib/julia/sys.dylib"
     ]
    }
   ],
   "source": [
    "q[-1]"
   ]
  },
  {
   "cell_type": "code",
   "execution_count": 7,
   "metadata": {
    "collapsed": false
   },
   "outputs": [
    {
     "data": {
      "text/plain": [
       "\"hello\""
      ]
     },
     "execution_count": 7,
     "metadata": {},
     "output_type": "execute_result"
    }
   ],
   "source": [
    "q[end-1]"
   ]
  },
  {
   "cell_type": "code",
   "execution_count": 8,
   "metadata": {
    "collapsed": false
   },
   "outputs": [
    {
     "data": {
      "text/plain": [
       "-1"
      ]
     },
     "execution_count": 8,
     "metadata": {},
     "output_type": "execute_result"
    }
   ],
   "source": [
    "q[end]"
   ]
  },
  {
   "cell_type": "code",
   "execution_count": 9,
   "metadata": {
    "collapsed": false
   },
   "outputs": [
    {
     "data": {
      "text/plain": [
       "4-element Array{Any,1}:\n",
       "  3       \n",
       "  4.5     \n",
       "   \"hello\"\n",
       " -1       "
      ]
     },
     "execution_count": 9,
     "metadata": {},
     "output_type": "execute_result"
    }
   ],
   "source": [
    "q"
   ]
  },
  {
   "cell_type": "code",
   "execution_count": 10,
   "metadata": {
    "collapsed": false
   },
   "outputs": [
    {
     "data": {
      "text/plain": [
       "5-element Array{Any,1}:\n",
       "  3       \n",
       "  4.5     \n",
       "   \"hello\"\n",
       " -1       \n",
       "   [-1,2] "
      ]
     },
     "execution_count": 10,
     "metadata": {},
     "output_type": "execute_result"
    }
   ],
   "source": [
    "push!(q, [-1, 2])"
   ]
  },
  {
   "cell_type": "code",
   "execution_count": 11,
   "metadata": {
    "collapsed": false
   },
   "outputs": [
    {
     "data": {
      "text/plain": [
       "7-element Array{Any,1}:\n",
       "  3       \n",
       "  4.5     \n",
       "   \"hello\"\n",
       " -1       \n",
       "   [-1,2] \n",
       " -1       \n",
       "  2       "
      ]
     },
     "execution_count": 11,
     "metadata": {},
     "output_type": "execute_result"
    }
   ],
   "source": [
    "push!(q, -1, 2)"
   ]
  },
  {
   "cell_type": "code",
   "execution_count": 12,
   "metadata": {
    "collapsed": false
   },
   "outputs": [
    {
     "name": "stderr",
     "output_type": "stream",
     "text": [
      "INFO: Loading help data...\n"
     ]
    },
    {
     "name": "stdout",
     "output_type": "stream",
     "text": [
      "Base.push!(collection, items...) -> collection\n",
      "\n",
      "   Insert items at the end of a collection.\n"
     ]
    }
   ],
   "source": [
    "?push!"
   ]
  },
  {
   "cell_type": "code",
   "execution_count": 13,
   "metadata": {
    "collapsed": false
   },
   "outputs": [
    {
     "data": {
      "text/plain": [
       "p (generic function with 1 method)"
      ]
     },
     "execution_count": 13,
     "metadata": {},
     "output_type": "execute_result"
    }
   ],
   "source": [
    "function p(x, y...)\n",
    "    @show x\n",
    "    @show y\n",
    "end"
   ]
  },
  {
   "cell_type": "code",
   "execution_count": 14,
   "metadata": {
    "collapsed": false
   },
   "outputs": [
    {
     "name": "stdout",
     "output_type": "stream",
     "text": [
      "x => 1\n",
      "y => ()\n"
     ]
    },
    {
     "data": {
      "text/plain": [
       "()"
      ]
     },
     "execution_count": 14,
     "metadata": {},
     "output_type": "execute_result"
    }
   ],
   "source": [
    "p(1)"
   ]
  },
  {
   "cell_type": "code",
   "execution_count": 15,
   "metadata": {
    "collapsed": false
   },
   "outputs": [
    {
     "ename": "LoadError",
     "evalue": "`p` has no method matching p()\nwhile loading In[15], in expression starting on line 1",
     "output_type": "error",
     "traceback": [
      "`p` has no method matching p()\nwhile loading In[15], in expression starting on line 1",
      ""
     ]
    }
   ],
   "source": [
    "p()"
   ]
  },
  {
   "cell_type": "code",
   "execution_count": 16,
   "metadata": {
    "collapsed": false
   },
   "outputs": [
    {
     "name": "stdout",
     "output_type": "stream",
     "text": [
      "x => 17\n",
      "y => (3,5,8)\n"
     ]
    },
    {
     "data": {
      "text/plain": [
       "(3,5,8)"
      ]
     },
     "execution_count": 16,
     "metadata": {},
     "output_type": "execute_result"
    }
   ],
   "source": [
    "p(17, 3, 5, 8)"
   ]
  },
  {
   "cell_type": "code",
   "execution_count": 18,
   "metadata": {
    "collapsed": false
   },
   "outputs": [
    {
     "data": {
      "text/plain": [
       "8-element Array{Any,1}:\n",
       "  3       \n",
       "  4.5     \n",
       "   \"hello\"\n",
       " -1       \n",
       "   [-1,2] \n",
       " -1       \n",
       "  2       \n",
       " -2       "
      ]
     },
     "execution_count": 18,
     "metadata": {},
     "output_type": "execute_result"
    }
   ],
   "source": [
    "qq = [q, -2]"
   ]
  },
  {
   "cell_type": "code",
   "execution_count": 21,
   "metadata": {
    "collapsed": false
   },
   "outputs": [
    {
     "data": {
      "text/plain": [
       "3"
      ]
     },
     "execution_count": 21,
     "metadata": {},
     "output_type": "execute_result"
    }
   ],
   "source": [
    "q = 3"
   ]
  },
  {
   "cell_type": "code",
   "execution_count": 19,
   "metadata": {
    "collapsed": false
   },
   "outputs": [
    {
     "data": {
      "text/plain": [
       "7-element Array{Any,1}:\n",
       "  3       \n",
       "  4.5     \n",
       "   \"hello\"\n",
       " -1       \n",
       "   [-1,2] \n",
       " -1       \n",
       "  2       "
      ]
     },
     "execution_count": 19,
     "metadata": {},
     "output_type": "execute_result"
    }
   ],
   "source": [
    "q"
   ]
  },
  {
   "cell_type": "code",
   "execution_count": 23,
   "metadata": {
    "collapsed": false
   },
   "outputs": [
    {
     "data": {
      "text/plain": [
       "2-element Array{Int64,1}:\n",
       "  3\n",
       " -2"
      ]
     },
     "execution_count": 23,
     "metadata": {},
     "output_type": "execute_result"
    }
   ],
   "source": [
    "q = [q, -2]   # BAD"
   ]
  },
  {
   "cell_type": "code",
   "execution_count": 24,
   "metadata": {
    "collapsed": false
   },
   "outputs": [
    {
     "data": {
      "text/plain": [
       "2-element Array{Int64,1}:\n",
       "  3\n",
       " -2"
      ]
     },
     "execution_count": 24,
     "metadata": {},
     "output_type": "execute_result"
    }
   ],
   "source": [
    "sizehint(q, 100)"
   ]
  },
  {
   "cell_type": "code",
   "execution_count": 31,
   "metadata": {
    "collapsed": false
   },
   "outputs": [
    {
     "data": {
      "text/plain": [
       "3-element Array{Int64,1}:\n",
       " 3\n",
       " 4\n",
       " 5"
      ]
     },
     "execution_count": 31,
     "metadata": {},
     "output_type": "execute_result"
    }
   ],
   "source": [
    "a = [3, 4, 5]"
   ]
  },
  {
   "cell_type": "code",
   "execution_count": 32,
   "metadata": {
    "collapsed": false
   },
   "outputs": [
    {
     "data": {
      "text/plain": [
       "3-element Array{Int64,1}:\n",
       " 3\n",
       " 4\n",
       " 5"
      ]
     },
     "execution_count": 32,
     "metadata": {},
     "output_type": "execute_result"
    }
   ],
   "source": [
    "b = a"
   ]
  },
  {
   "cell_type": "code",
   "execution_count": 34,
   "metadata": {
    "collapsed": false
   },
   "outputs": [
    {
     "data": {
      "text/plain": [
       "true"
      ]
     },
     "execution_count": 34,
     "metadata": {},
     "output_type": "execute_result"
    }
   ],
   "source": [
    "is(a,b)"
   ]
  },
  {
   "cell_type": "code",
   "execution_count": 35,
   "metadata": {
    "collapsed": false
   },
   "outputs": [
    {
     "data": {
      "text/plain": [
       "true"
      ]
     },
     "execution_count": 35,
     "metadata": {},
     "output_type": "execute_result"
    }
   ],
   "source": [
    "a === b"
   ]
  },
  {
   "cell_type": "code",
   "execution_count": 36,
   "metadata": {
    "collapsed": false
   },
   "outputs": [
    {
     "data": {
      "text/plain": [
       "100"
      ]
     },
     "execution_count": 36,
     "metadata": {},
     "output_type": "execute_result"
    }
   ],
   "source": [
    "b[3] = 100"
   ]
  },
  {
   "cell_type": "code",
   "execution_count": 37,
   "metadata": {
    "collapsed": false
   },
   "outputs": [
    {
     "data": {
      "text/plain": [
       "3-element Array{Int64,1}:\n",
       "   3\n",
       "   4\n",
       " 100"
      ]
     },
     "execution_count": 37,
     "metadata": {},
     "output_type": "execute_result"
    }
   ],
   "source": [
    "b"
   ]
  },
  {
   "cell_type": "code",
   "execution_count": 38,
   "metadata": {
    "collapsed": false
   },
   "outputs": [
    {
     "data": {
      "text/plain": [
       "3-element Array{Int64,1}:\n",
       "   3\n",
       "   4\n",
       " 100"
      ]
     },
     "execution_count": 38,
     "metadata": {},
     "output_type": "execute_result"
    }
   ],
   "source": [
    "a"
   ]
  },
  {
   "cell_type": "code",
   "execution_count": 39,
   "metadata": {
    "collapsed": false
   },
   "outputs": [
    {
     "data": {
      "text/plain": [
       "3-element Array{Int64,1}:\n",
       "   3\n",
       "   4\n",
       " 100"
      ]
     },
     "execution_count": 39,
     "metadata": {},
     "output_type": "execute_result"
    }
   ],
   "source": [
    "b = copy(a)"
   ]
  },
  {
   "cell_type": "code",
   "execution_count": 40,
   "metadata": {
    "collapsed": false
   },
   "outputs": [
    {
     "data": {
      "text/plain": [
       "false"
      ]
     },
     "execution_count": 40,
     "metadata": {},
     "output_type": "execute_result"
    }
   ],
   "source": [
    "is(a, b)"
   ]
  },
  {
   "cell_type": "code",
   "execution_count": 42,
   "metadata": {
    "collapsed": false
   },
   "outputs": [
    {
     "data": {
      "text/plain": [
       "300"
      ]
     },
     "execution_count": 42,
     "metadata": {},
     "output_type": "execute_result"
    }
   ],
   "source": [
    "b[3] = 300"
   ]
  },
  {
   "cell_type": "code",
   "execution_count": 43,
   "metadata": {
    "collapsed": false
   },
   "outputs": [
    {
     "data": {
      "text/plain": [
       "3-element Array{Int64,1}:\n",
       "   3\n",
       "   4\n",
       " 300"
      ]
     },
     "execution_count": 43,
     "metadata": {},
     "output_type": "execute_result"
    }
   ],
   "source": [
    "b"
   ]
  },
  {
   "cell_type": "code",
   "execution_count": 44,
   "metadata": {
    "collapsed": false
   },
   "outputs": [
    {
     "data": {
      "text/plain": [
       "3-element Array{Int64,1}:\n",
       "   3\n",
       "   4\n",
       " 100"
      ]
     },
     "execution_count": 44,
     "metadata": {},
     "output_type": "execute_result"
    }
   ],
   "source": [
    "a"
   ]
  },
  {
   "cell_type": "code",
   "execution_count": 46,
   "metadata": {
    "collapsed": false
   },
   "outputs": [
    {
     "data": {
      "text/plain": [
       "4"
      ]
     },
     "execution_count": 46,
     "metadata": {},
     "output_type": "execute_result"
    }
   ],
   "source": [
    "x = 4"
   ]
  },
  {
   "cell_type": "code",
   "execution_count": 47,
   "metadata": {
    "collapsed": false
   },
   "outputs": [
    {
     "name": "stdout",
     "output_type": "stream",
     "text": [
      "x = 4\n"
     ]
    }
   ],
   "source": [
    "println(\"x = $x\")"
   ]
  },
  {
   "cell_type": "code",
   "execution_count": 48,
   "metadata": {
    "collapsed": false
   },
   "outputs": [
    {
     "name": "stdout",
     "output_type": "stream",
     "text": [
      "x = 4\n"
     ]
    }
   ],
   "source": [
    "println(\"x = \", x)"
   ]
  },
  {
   "cell_type": "code",
   "execution_count": 49,
   "metadata": {
    "collapsed": false
   },
   "outputs": [
    {
     "data": {
      "text/plain": [
       "3-element Array{Int64,1}:\n",
       " 3\n",
       " 4\n",
       " 5"
      ]
     },
     "execution_count": 49,
     "metadata": {},
     "output_type": "execute_result"
    }
   ],
   "source": [
    "a = [3, 4, 5]"
   ]
  },
  {
   "cell_type": "code",
   "execution_count": 50,
   "metadata": {
    "collapsed": false
   },
   "outputs": [
    {
     "data": {
      "text/plain": [
       "3-element Array{Int64,1}:\n",
       " 3\n",
       " 4\n",
       " 5"
      ]
     },
     "execution_count": 50,
     "metadata": {},
     "output_type": "execute_result"
    }
   ],
   "source": [
    "b = a"
   ]
  },
  {
   "cell_type": "code",
   "execution_count": 51,
   "metadata": {
    "collapsed": false
   },
   "outputs": [
    {
     "data": {
      "text/plain": [
       "3-element Array{Int64,1}:\n",
       " 7\n",
       " 8\n",
       " 9"
      ]
     },
     "execution_count": 51,
     "metadata": {},
     "output_type": "execute_result"
    }
   ],
   "source": [
    "b = [7, 8, 9]"
   ]
  },
  {
   "cell_type": "code",
   "execution_count": 52,
   "metadata": {
    "collapsed": false
   },
   "outputs": [
    {
     "data": {
      "text/plain": [
       "2-element Array{Int64,1}:\n",
       " 10\n",
       " 20"
      ]
     },
     "execution_count": 52,
     "metadata": {},
     "output_type": "execute_result"
    }
   ],
   "source": [
    "a = [10, 20]"
   ]
  },
  {
   "cell_type": "code",
   "execution_count": 53,
   "metadata": {
    "collapsed": false
   },
   "outputs": [
    {
     "data": {
      "text/plain": [
       "3-element Array{Int64,1}:\n",
       " 7\n",
       " 8\n",
       " 9"
      ]
     },
     "execution_count": 53,
     "metadata": {},
     "output_type": "execute_result"
    }
   ],
   "source": [
    "b"
   ]
  },
  {
   "cell_type": "code",
   "execution_count": 57,
   "metadata": {
    "collapsed": false
   },
   "outputs": [
    {
     "data": {
      "text/plain": [
       "2-element Array{Int64,1}:\n",
       " 1000\n",
       "   20"
      ]
     },
     "execution_count": 57,
     "metadata": {},
     "output_type": "execute_result"
    }
   ],
   "source": [
    "b = a"
   ]
  },
  {
   "cell_type": "code",
   "execution_count": 58,
   "metadata": {
    "collapsed": false
   },
   "outputs": [
    {
     "data": {
      "text/plain": [
       "2-element Array{Int64,1}:\n",
       " 3\n",
       " 5"
      ]
     },
     "execution_count": 58,
     "metadata": {},
     "output_type": "execute_result"
    }
   ],
   "source": [
    "a = [3, 5]"
   ]
  },
  {
   "cell_type": "code",
   "execution_count": 59,
   "metadata": {
    "collapsed": false
   },
   "outputs": [
    {
     "data": {
      "text/plain": [
       "2-element Array{Int64,1}:\n",
       " 1000\n",
       "   20"
      ]
     },
     "execution_count": 59,
     "metadata": {},
     "output_type": "execute_result"
    }
   ],
   "source": [
    "b"
   ]
  },
  {
   "cell_type": "markdown",
   "metadata": {},
   "source": [
    "## Parametrised types "
   ]
  },
  {
   "cell_type": "markdown",
   "metadata": {},
   "source": [
    "We may wish to define different kinds of `Vector2D` that contain different types. We can *define them all at once* by using a **type parameter**:"
   ]
  },
  {
   "cell_type": "code",
   "execution_count": 69,
   "metadata": {
    "collapsed": true
   },
   "outputs": [],
   "source": [
    "workspace()  "
   ]
  },
  {
   "cell_type": "code",
   "execution_count": 70,
   "metadata": {
    "collapsed": true
   },
   "outputs": [],
   "source": [
    "immutable Vector2D{T}\n",
    "    x::T\n",
    "    y::T\n",
    "end"
   ]
  },
  {
   "cell_type": "code",
   "execution_count": 71,
   "metadata": {
    "collapsed": false
   },
   "outputs": [
    {
     "data": {
      "text/html": [
       "1 method for generic function <b>Vector2D</b>:<ul><li> Vector2D<i>{T}</i>(x::<b>T</b>,y::<b>T</b>)</ul>"
      ],
      "text/plain": [
       "# 1 method for generic function \"Vector2D\":\n",
       "Vector2D{T}(x::T,y::T)"
      ]
     },
     "execution_count": 71,
     "metadata": {},
     "output_type": "execute_result"
    }
   ],
   "source": [
    "methods(Vector2D)"
   ]
  },
  {
   "cell_type": "markdown",
   "metadata": {},
   "source": [
    "We have replaced the keyword `type` by `immutable`; this permits the compiler to store the object more efficiently. The `{T}` indicates that `T` can now be any type, and `x` and `y` are both of the *same* type `T`."
   ]
  },
  {
   "cell_type": "markdown",
   "metadata": {},
   "source": [
    "**Exercise**: Create vectors of different types"
   ]
  },
  {
   "cell_type": "code",
   "execution_count": 62,
   "metadata": {
    "collapsed": false
   },
   "outputs": [
    {
     "data": {
      "text/plain": [
       "Vector2D{Int64}(3,4)"
      ]
     },
     "execution_count": 62,
     "metadata": {},
     "output_type": "execute_result"
    }
   ],
   "source": [
    "Vector2D(3, 4)"
   ]
  },
  {
   "cell_type": "code",
   "execution_count": 63,
   "metadata": {
    "collapsed": false
   },
   "outputs": [
    {
     "data": {
      "text/plain": [
       "Vector2D{Float64}(3.5,4.5)"
      ]
     },
     "execution_count": 63,
     "metadata": {},
     "output_type": "execute_result"
    }
   ],
   "source": [
    "Vector2D(3.5, 4.5)"
   ]
  },
  {
   "cell_type": "code",
   "execution_count": 64,
   "metadata": {
    "collapsed": false
   },
   "outputs": [
    {
     "ename": "LoadError",
     "evalue": "`Vector2D{T}` has no method matching Vector2D{T}(::Int64, ::Float64)\nwhile loading In[64], in expression starting on line 1",
     "output_type": "error",
     "traceback": [
      "`Vector2D{T}` has no method matching Vector2D{T}(::Int64, ::Float64)\nwhile loading In[64], in expression starting on line 1",
      ""
     ]
    }
   ],
   "source": [
    "Vector2D(3, 4.5)"
   ]
  },
  {
   "cell_type": "code",
   "execution_count": 73,
   "metadata": {
    "collapsed": false
   },
   "outputs": [
    {
     "data": {
      "text/plain": [
       "Vector2D{T} (constructor with 2 methods)"
      ]
     },
     "execution_count": 73,
     "metadata": {},
     "output_type": "execute_result"
    }
   ],
   "source": [
    "Vector2D(x, y) = Vector2D(promote(x,y)...)"
   ]
  },
  {
   "cell_type": "code",
   "execution_count": 74,
   "metadata": {
    "collapsed": false
   },
   "outputs": [
    {
     "data": {
      "text/plain": [
       "Vector2D{Float64}(3.0,4.5)"
      ]
     },
     "execution_count": 74,
     "metadata": {},
     "output_type": "execute_result"
    }
   ],
   "source": [
    "Vector2D(3, 4.5)"
   ]
  },
  {
   "cell_type": "code",
   "execution_count": 75,
   "metadata": {
    "collapsed": false
   },
   "outputs": [
    {
     "data": {
      "text/plain": [
       "(3.0,4.5)"
      ]
     },
     "execution_count": 75,
     "metadata": {},
     "output_type": "execute_result"
    }
   ],
   "source": [
    "promote(3, 4.5)"
   ]
  },
  {
   "cell_type": "code",
   "execution_count": 76,
   "metadata": {
    "collapsed": false
   },
   "outputs": [
    {
     "data": {
      "text/plain": [
       "Vector2D{Complex{Float64}}(3.0 + 4.0im,1.3 + 0.0im)"
      ]
     },
     "execution_count": 76,
     "metadata": {},
     "output_type": "execute_result"
    }
   ],
   "source": [
    "Vector2D(3+4im, 1.3)"
   ]
  },
  {
   "cell_type": "markdown",
   "metadata": {},
   "source": [
    "Functions may also be parametrised:"
   ]
  },
  {
   "cell_type": "code",
   "execution_count": 77,
   "metadata": {
    "collapsed": false
   },
   "outputs": [
    {
     "data": {
      "text/plain": [
       "+ (generic function with 118 methods)"
      ]
     },
     "execution_count": 77,
     "metadata": {},
     "output_type": "execute_result"
    }
   ],
   "source": [
    "+{T}(a::Vector2D{T}, b::Vector2D{T}) = Vector2D{T}(a.x+b.x, a.y+b.y)"
   ]
  },
  {
   "cell_type": "code",
   "execution_count": 78,
   "metadata": {
    "collapsed": false
   },
   "outputs": [
    {
     "data": {
      "text/plain": [
       "Vector2D{Int64}(8,10)"
      ]
     },
     "execution_count": 78,
     "metadata": {},
     "output_type": "execute_result"
    }
   ],
   "source": [
    "Vector2D(3, 4) + Vector2D(5, 6)"
   ]
  },
  {
   "cell_type": "code",
   "execution_count": 79,
   "metadata": {
    "collapsed": false
   },
   "outputs": [
    {
     "ename": "LoadError",
     "evalue": "`+` has no method matching +(::Vector2D{Int64}, ::Vector2D{Float64})\nwhile loading In[79], in expression starting on line 1",
     "output_type": "error",
     "traceback": [
      "`+` has no method matching +(::Vector2D{Int64}, ::Vector2D{Float64})\nwhile loading In[79], in expression starting on line 1",
      ""
     ]
    }
   ],
   "source": [
    "Vector2D(3, 4) + Vector2D(5.5, 6)"
   ]
  },
  {
   "cell_type": "code",
   "execution_count": 80,
   "metadata": {
    "collapsed": false
   },
   "outputs": [
    {
     "data": {
      "text/plain": [
       "+ (generic function with 119 methods)"
      ]
     },
     "execution_count": 80,
     "metadata": {},
     "output_type": "execute_result"
    }
   ],
   "source": [
    "+(a::Vector2D, b::Vector2D) = Vector2D(a.x+b.x, a.y+b.y)"
   ]
  },
  {
   "cell_type": "code",
   "execution_count": 81,
   "metadata": {
    "collapsed": false
   },
   "outputs": [
    {
     "data": {
      "text/plain": [
       "Vector2D{Float64}(8.5,10.0)"
      ]
     },
     "execution_count": 81,
     "metadata": {},
     "output_type": "execute_result"
    }
   ],
   "source": [
    "Vector2D(3, 4) + Vector2D(5.5, 6)"
   ]
  },
  {
   "cell_type": "code",
   "execution_count": 84,
   "metadata": {
    "collapsed": false
   },
   "outputs": [
    {
     "data": {
      "text/plain": [
       "+ (generic function with 120 methods)"
      ]
     },
     "execution_count": 84,
     "metadata": {},
     "output_type": "execute_result"
    }
   ],
   "source": [
    "+(a::Vector2D{Float64}, b::Vector2D{Float64}) = Vector2D(a.x-b.x, a.y+b.y)"
   ]
  },
  {
   "cell_type": "code",
   "execution_count": 85,
   "metadata": {
    "collapsed": false
   },
   "outputs": [
    {
     "data": {
      "text/plain": [
       "Vector2D{Float64}(0.0,5.0)"
      ]
     },
     "execution_count": 85,
     "metadata": {},
     "output_type": "execute_result"
    }
   ],
   "source": [
    "Vector2D(1.,2.) + Vector2D(1., 3.)"
   ]
  },
  {
   "cell_type": "code",
   "execution_count": 86,
   "metadata": {
    "collapsed": false
   },
   "outputs": [
    {
     "data": {
      "text/plain": [
       "Vector2D{Int64}(2,5)"
      ]
     },
     "execution_count": 86,
     "metadata": {},
     "output_type": "execute_result"
    }
   ],
   "source": [
    "Vector2D(1,2) + Vector2D(1, 3)"
   ]
  },
  {
   "cell_type": "markdown",
   "metadata": {},
   "source": [
    "## Defining a particle "
   ]
  },
  {
   "cell_type": "markdown",
   "metadata": {},
   "source": [
    "**Exercise:** Define a particle type and create a couple of particles. Define a function `move!` that moves a particle in its current direction for a small time $\\delta t$."
   ]
  },
  {
   "cell_type": "code",
   "execution_count": 87,
   "metadata": {
    "collapsed": true
   },
   "outputs": [],
   "source": [
    "type Particle\n",
    "    pos\n",
    "    vel\n",
    "    m\n",
    "end"
   ]
  },
  {
   "cell_type": "code",
   "execution_count": 88,
   "metadata": {
    "collapsed": false
   },
   "outputs": [
    {
     "data": {
      "text/html": [
       "1 method for generic function <b>Particle</b>:<ul><li> Particle(pos,vel,m)</ul>"
      ],
      "text/plain": [
       "# 1 method for generic function \"Particle\":\n",
       "Particle(pos,vel,m)"
      ]
     },
     "execution_count": 88,
     "metadata": {},
     "output_type": "execute_result"
    }
   ],
   "source": [
    "methods(Particle)"
   ]
  },
  {
   "cell_type": "code",
   "execution_count": 89,
   "metadata": {
    "collapsed": false
   },
   "outputs": [
    {
     "data": {
      "text/plain": [
       "Particle(3,5,10)"
      ]
     },
     "execution_count": 89,
     "metadata": {},
     "output_type": "execute_result"
    }
   ],
   "source": [
    "Particle(3, 5, 10)"
   ]
  },
  {
   "cell_type": "code",
   "execution_count": null,
   "metadata": {
    "collapsed": true
   },
   "outputs": [],
   "source": []
  },
  {
   "cell_type": "markdown",
   "metadata": {},
   "source": [
    "## Defining a gas"
   ]
  },
  {
   "cell_type": "markdown",
   "metadata": {},
   "source": [
    "**Exercise**: Define a gas that contains a certain number of particles, $N$, and the particles themselves. Define `move!` for the gas. (A gas should also have a box in which it lives -- exercise.) "
   ]
  },
  {
   "cell_type": "markdown",
   "metadata": {
    "collapsed": true
   },
   "source": [
    "## Example: Automatic differentiation "
   ]
  },
  {
   "cell_type": "markdown",
   "metadata": {},
   "source": [
    "As in other languages, a type's behaviour is determined both by its fields and by the methods that act on the types; the only difference, once again, is that in Julia the methods are defined outside the definition of the type itself.\n",
    "\n",
    "We will now define another type that has two fields but that behaves very differently, to permit [**automatic** (or **algorithmic**) **differentiation**](https://en.wikipedia.org/wiki/Automatic_differentiation).\n",
    "\n",
    "The idea is that to differentiation a complicated function, say\n",
    "\n",
    "$f(x) := \\sin[(x-1)(x^2+2)],$\n",
    "\n",
    "the function is decomposed into elementary functions that we know how to differentiate.\n",
    "\n",
    "For example, suppose that we know how to differentiate the functions $g(x) := x-1$ and $h(x) := x^2 + 2$ at $x=a$. Then the derivative of their product is given by\n",
    "\n",
    "$[g \\cdot h]'(a) = g(a) h'(a) + g'(a) h(a)$.\n",
    "\n",
    "Similarly, to differentiate *any* function at $a$, it is sufficient to know the value and the derivative of each subpart of the function at the same point $a$.\n",
    "\n",
    "We thus represent a function $f$ by the pair $(f(a), f'(a))$, which we can regard as a mathematical object called a [**jet**](https://en.wikipedia.org/wiki/Jet_(mathematics)), i.e. the collection [equivalence class] of all functions that have the same value and the same derivative at the point $a$."
   ]
  },
  {
   "cell_type": "code",
   "execution_count": null,
   "metadata": {
    "collapsed": false
   },
   "outputs": [],
   "source": [
    "immutable Jet\n",
    "    value::Float64\n",
    "    deriv::Float64\n",
    "end"
   ]
  },
  {
   "cell_type": "markdown",
   "metadata": {},
   "source": [
    "The operations on `Jet`s should correspond to the operations on those functions to give new functions. For example, we have"
   ]
  },
  {
   "cell_type": "code",
   "execution_count": null,
   "metadata": {
    "collapsed": false
   },
   "outputs": [],
   "source": [
    "+(f::Jet, g::Jet) = Jet(f.value+g.value, f.deriv+g.deriv)\n",
    "*(f::Jet, g::Jet) = Jet(f.value*g.value, f.value*g.deriv + f.deriv*g.value)"
   ]
  },
  {
   "cell_type": "markdown",
   "metadata": {},
   "source": [
    "A constant function $c(x) := c$  for all $x$ has derivative $0$, so `c` corresponds to the jet `Jet(c, 0)`.\n",
    "The identity function $\\mathrm{id}(x)$ has the value $id(a)=a$ at the point $x=a$ and derivative $1$, and so corresponds to the Jet `Jet(a, 1)`.\n",
    "\n",
    "We can now do simple derivatives. Let's calculate"
   ]
  },
  {
   "cell_type": "code",
   "execution_count": null,
   "metadata": {
    "collapsed": false
   },
   "outputs": [],
   "source": [
    "a = 3\n",
    "xx = Jet(a, 1)\n",
    "\n",
    "f(x) = x*x + x  # we haven't yet defined ^ for a Jet!\n",
    "f′(x) = 2x + 1"
   ]
  },
  {
   "cell_type": "code",
   "execution_count": null,
   "metadata": {
    "collapsed": false
   },
   "outputs": [],
   "source": [
    "@show f(a) \n",
    "@show f′(a)\n",
    "@show f(xx)"
   ]
  },
  {
   "cell_type": "markdown",
   "metadata": {},
   "source": [
    "This correctly calculates, *automatically*, the value and derivative of the function at $a$!"
   ]
  },
  {
   "cell_type": "markdown",
   "metadata": {},
   "source": [
    "## Promotion and conversion "
   ]
  },
  {
   "cell_type": "markdown",
   "metadata": {},
   "source": [
    "Suppose we now try to do "
   ]
  },
  {
   "cell_type": "code",
   "execution_count": null,
   "metadata": {
    "collapsed": false
   },
   "outputs": [],
   "source": [
    "xx + 3"
   ]
  },
  {
   "cell_type": "markdown",
   "metadata": {},
   "source": [
    "Julia does not know how to add a jet and an integer -- because we defined addition only for two jets.\n",
    "One (painful) solution would be to explicitly define `+(a::Jet, b::Number)`, `+(a::Number, b::Jet)`, and the same for all the other operations.\n",
    "\n",
    "Julia provides a better solution: a system for promotion and conversion of types from one type to another. Nothing is \"automatic\", though, it's all coded in rules. For example, what does Julia do when we try to add an integer and a float?"
   ]
  },
  {
   "cell_type": "code",
   "execution_count": null,
   "metadata": {
    "collapsed": false
   },
   "outputs": [],
   "source": [
    "@which 3 + 4.5"
   ]
  },
  {
   "cell_type": "markdown",
   "metadata": {},
   "source": [
    "We see that it calls a very generic function that adds two `Number`s. We copy here the code for convenience:"
   ]
  },
  {
   "cell_type": "code",
   "execution_count": null,
   "metadata": {
    "collapsed": true
   },
   "outputs": [],
   "source": [
    "+(x::Number, y::Number) = +(promote(x,y)...)"
   ]
  },
  {
   "cell_type": "markdown",
   "metadata": {},
   "source": [
    "What does this call to `promote` do?"
   ]
  },
  {
   "cell_type": "code",
   "execution_count": null,
   "metadata": {
    "collapsed": false
   },
   "outputs": [],
   "source": [
    "promote(3, 4.5)"
   ]
  },
  {
   "cell_type": "markdown",
   "metadata": {},
   "source": [
    "It returns both numbers, converted to the same type. How does it work?"
   ]
  },
  {
   "cell_type": "code",
   "execution_count": null,
   "metadata": {
    "collapsed": false
   },
   "outputs": [],
   "source": [
    "@which promote(3, 4.5)"
   ]
  },
  {
   "cell_type": "markdown",
   "metadata": {},
   "source": [
    "That code is"
   ]
  },
  {
   "cell_type": "code",
   "execution_count": null,
   "metadata": {
    "collapsed": true
   },
   "outputs": [],
   "source": [
    "function promote{T,S}(x::T, y::S)\n",
    "    (convert(promote_type(T,S),x), convert(promote_type(T,S),y))\n",
    "end"
   ]
  },
  {
   "cell_type": "markdown",
   "metadata": {},
   "source": [
    "It uses the function `convert` that converts between types, e.g."
   ]
  },
  {
   "cell_type": "code",
   "execution_count": null,
   "metadata": {
    "collapsed": false
   },
   "outputs": [],
   "source": [
    "convert(Float64, 3)"
   ]
  },
  {
   "cell_type": "code",
   "execution_count": null,
   "metadata": {
    "collapsed": false
   },
   "outputs": [],
   "source": [
    "@which convert(Float64, 3)"
   ]
  },
  {
   "cell_type": "markdown",
   "metadata": {},
   "source": [
    "That code calls out the `sitofp` LLVM intrinsic function that converts a signed integer to a floating point number."
   ]
  },
  {
   "cell_type": "markdown",
   "metadata": {},
   "source": [
    "What does `promote_type` do?"
   ]
  },
  {
   "cell_type": "code",
   "execution_count": null,
   "metadata": {
    "collapsed": false
   },
   "outputs": [],
   "source": [
    "promote_type(Float64, Int)"
   ]
  },
  {
   "cell_type": "code",
   "execution_count": null,
   "metadata": {
    "collapsed": false
   },
   "outputs": [],
   "source": [
    "@which promote_type(Float64, Int)"
   ]
  },
  {
   "cell_type": "code",
   "execution_count": null,
   "metadata": {
    "collapsed": true
   },
   "outputs": [],
   "source": [
    "promote_type{T,S}(::Type{T}, ::Type{S}) =\n",
    "    promote_result(T, S, promote_rule(T,S), promote_rule(S,T))"
   ]
  },
  {
   "cell_type": "markdown",
   "metadata": {},
   "source": [
    "And finally, "
   ]
  },
  {
   "cell_type": "code",
   "execution_count": null,
   "metadata": {
    "collapsed": false
   },
   "outputs": [],
   "source": [
    "promote_rule(Float64, Int64)"
   ]
  },
  {
   "cell_type": "code",
   "execution_count": null,
   "metadata": {
    "collapsed": false
   },
   "outputs": [],
   "source": [
    "@which promote_rule(Float64, Int64)"
   ]
  },
  {
   "cell_type": "markdown",
   "metadata": {},
   "source": [
    "This specifies what the result of the promotion of those two types should be."
   ]
  },
  {
   "cell_type": "markdown",
   "metadata": {},
   "source": [
    "## Defining our own conversions and promotions "
   ]
  },
  {
   "cell_type": "markdown",
   "metadata": {},
   "source": [
    "We can \"hook in\" to this mechanism if we think of a `Jet` as a *type of `Number`*. We can specify that `Jet` is a new type in the type hierarchy below `Number` as follows:"
   ]
  },
  {
   "cell_type": "code",
   "execution_count": null,
   "metadata": {
    "collapsed": true
   },
   "outputs": [],
   "source": [
    "workspace()"
   ]
  },
  {
   "cell_type": "code",
   "execution_count": null,
   "metadata": {
    "collapsed": true
   },
   "outputs": [],
   "source": [
    "immutable Jet <: Number\n",
    "    value::Float64\n",
    "    deriv::Float64\n",
    "end"
   ]
  },
  {
   "cell_type": "code",
   "execution_count": null,
   "metadata": {
    "collapsed": false
   },
   "outputs": [],
   "source": [
    "Base.convert(::Type{Jet}, c::Real) = Jet(c, 0)\n",
    "Base.promote_rule{S<:Real}(::Type{Jet}, ::Type{S}) = Jet"
   ]
  },
  {
   "cell_type": "code",
   "execution_count": null,
   "metadata": {
    "collapsed": false
   },
   "outputs": [],
   "source": [
    "+(f::Jet, g::Jet) = Jet(f.value+g.value, f.deriv+g.deriv)\n",
    "*(f::Jet, g::Jet) = Jet(f.value*g.value, f.value*g.deriv + f.deriv*g.value)"
   ]
  },
  {
   "cell_type": "markdown",
   "metadata": {},
   "source": [
    "Now operations with constants work \"magically\" (without any magic at all, i.e. with everything being completely explicit and traceable in the code):"
   ]
  },
  {
   "cell_type": "code",
   "execution_count": null,
   "metadata": {
    "collapsed": false
   },
   "outputs": [],
   "source": [
    "j = Jet(3, 1)"
   ]
  },
  {
   "cell_type": "code",
   "execution_count": null,
   "metadata": {
    "collapsed": false
   },
   "outputs": [],
   "source": [
    "j + 2"
   ]
  },
  {
   "cell_type": "code",
   "execution_count": null,
   "metadata": {
    "collapsed": false
   },
   "outputs": [],
   "source": [
    "j * 2"
   ]
  },
  {
   "cell_type": "code",
   "execution_count": null,
   "metadata": {
    "collapsed": false
   },
   "outputs": [],
   "source": [
    "2 * j"
   ]
  },
  {
   "cell_type": "markdown",
   "metadata": {},
   "source": [
    "So now we can differentiate more complicated functions:"
   ]
  },
  {
   "cell_type": "code",
   "execution_count": null,
   "metadata": {
    "collapsed": false
   },
   "outputs": [],
   "source": [
    "f(x) = 3x^2 + 2.3x"
   ]
  },
  {
   "cell_type": "code",
   "execution_count": null,
   "metadata": {
    "collapsed": false
   },
   "outputs": [],
   "source": [
    "a = 3\n",
    "xx = Jet(a, 1)\n",
    "f(xx)"
   ]
  },
  {
   "cell_type": "markdown",
   "metadata": {},
   "source": [
    "**Exercise**: Define `^` for jets and check that you can differentiate polynomials. Define `exp` for a jet and differentiate functions involving exponentials. "
   ]
  },
  {
   "cell_type": "markdown",
   "metadata": {},
   "source": [
    "Note that several [implementations](http://www.juliadiff.org/) of automatic differentiation are available.\n",
    "An implementation along the lines presented here is available in [`ValidatedNumerics.jl`](https://github.com/dpsanders/ValidatedNumerics.jl)."
   ]
  }
 ],
 "metadata": {
  "kernelspec": {
   "display_name": "Julia 0.4.5",
   "language": "julia",
   "name": "julia-0.4"
  },
  "language_info": {
   "file_extension": ".jl",
   "mimetype": "application/julia",
   "name": "julia",
   "version": "0.4.5"
  }
 },
 "nbformat": 4,
 "nbformat_minor": 0
}
