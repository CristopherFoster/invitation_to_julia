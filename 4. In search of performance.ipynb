{
 "cells": [
  {
   "cell_type": "markdown",
   "metadata": {},
   "source": [
    "# Performance"
   ]
  },
  {
   "cell_type": "markdown",
   "metadata": {},
   "source": [
    "Julia is carefully designed with performance in mind. However, it is just as possible to write slow code in Julia as in any other dynamic language! The difference is that with some relatively minor tweaks, we can see dramatic increases in performance in Julia. A detailed discussion of performance-related issues can be found in the [Julia manual](http://julia.readthedocs.org/en/latest/manual/performance-tips/)."
   ]
  },
  {
   "cell_type": "markdown",
   "metadata": {},
   "source": [
    "We have already seen the first two (related) tweaks:"
   ]
  },
  {
   "cell_type": "markdown",
   "metadata": {},
   "source": [
    "(1) Don't work in global scope\n",
    "\n",
    "(2) Wrap everything in a function"
   ]
  },
  {
   "cell_type": "markdown",
   "metadata": {},
   "source": [
    "## Type stability"
   ]
  },
  {
   "cell_type": "markdown",
   "metadata": {},
   "source": [
    "An important concept is that of *type stability*. Let's take as an (over-simplified) example the calculation of collisions of a particle with a fixed disc.\n",
    "\n",
    "Fix the centre of the disc at $(0,0)$ with radius $r$. Suppose the particle starts at $(x, y)$ with $y$ large and negative and moves to the right, with velocity $(1, 0)$ for simplicity. We wish to calculate the collision with the disc and return the collision point. However, they may not be a collision, so we return `false` in this case:"
   ]
  },
  {
   "cell_type": "code",
   "execution_count": 47,
   "metadata": {
    "collapsed": false
   },
   "outputs": [
    {
     "data": {
      "text/plain": [
       "find_collision (generic function with 1 method)"
      ]
     },
     "execution_count": 47,
     "metadata": {},
     "output_type": "execute_result"
    }
   ],
   "source": [
    "function find_collision(x, y, r)\n",
    "    collision = false\n",
    "    \n",
    "    if abs(y) < r\n",
    "        x_collision = -sqrt(r^2 - y^2)\n",
    "        collision = (x_collision, y)\n",
    "    end\n",
    "    \n",
    "    collision\n",
    "    \n",
    "end"
   ]
  },
  {
   "cell_type": "code",
   "execution_count": 48,
   "metadata": {
    "collapsed": false
   },
   "outputs": [
    {
     "data": {
      "text/plain": [
       "(-0.9797958971132712,0.2)"
      ]
     },
     "execution_count": 48,
     "metadata": {},
     "output_type": "execute_result"
    }
   ],
   "source": [
    "find_collision(-10, 0.2, 1)"
   ]
  },
  {
   "cell_type": "code",
   "execution_count": 49,
   "metadata": {
    "collapsed": false
   },
   "outputs": [
    {
     "data": {
      "text/plain": [
       "(-0.4358898943540673,0.9)"
      ]
     },
     "execution_count": 49,
     "metadata": {},
     "output_type": "execute_result"
    }
   ],
   "source": [
    "find_collision(-10, 0.9, 1)"
   ]
  },
  {
   "cell_type": "code",
   "execution_count": 50,
   "metadata": {
    "collapsed": false
   },
   "outputs": [
    {
     "data": {
      "text/plain": [
       "(-0.14106735979665894,0.99)"
      ]
     },
     "execution_count": 50,
     "metadata": {},
     "output_type": "execute_result"
    }
   ],
   "source": [
    "find_collision(-10, 0.99, 1)"
   ]
  },
  {
   "cell_type": "code",
   "execution_count": 51,
   "metadata": {
    "collapsed": false
   },
   "outputs": [
    {
     "data": {
      "text/plain": [
       "false"
      ]
     },
     "execution_count": 51,
     "metadata": {},
     "output_type": "execute_result"
    }
   ],
   "source": [
    "find_collision(-10, 1.1, 1)"
   ]
  },
  {
   "cell_type": "markdown",
   "metadata": {},
   "source": [
    "Let's run this many times for random initial heights $y$:"
   ]
  },
  {
   "cell_type": "code",
   "execution_count": 52,
   "metadata": {
    "collapsed": false
   },
   "outputs": [
    {
     "data": {
      "text/plain": [
       "run (generic function with 1 method)"
      ]
     },
     "execution_count": 52,
     "metadata": {},
     "output_type": "execute_result"
    }
   ],
   "source": [
    "function run(N)\n",
    "    for i in 1:N\n",
    "        y = -10. + 20*rand()\n",
    "        find_collision(-10., y, 1.)\n",
    "    end\n",
    "end"
   ]
  },
  {
   "cell_type": "code",
   "execution_count": 53,
   "metadata": {
    "collapsed": false
   },
   "outputs": [],
   "source": [
    "run(10)  # compile the function first before running"
   ]
  },
  {
   "cell_type": "code",
   "execution_count": 54,
   "metadata": {
    "collapsed": false
   },
   "outputs": [
    {
     "name": "stdout",
     "output_type": "stream",
     "text": [
      "elapsed time: 2.010927848 seconds (640155280 bytes allocated, 21.50% gc time)\n"
     ]
    }
   ],
   "source": [
    "@time run(10^8)"
   ]
  },
  {
   "cell_type": "markdown",
   "metadata": {},
   "source": [
    "The calculation seems pretty fast, but note the huge amount of memory allocated."
   ]
  },
  {
   "cell_type": "markdown",
   "metadata": {},
   "source": [
    "Let's rewrite it to return the *same* type, even when there is no collision. For example, we could say that the collision occurs at $\\infty$:"
   ]
  },
  {
   "cell_type": "code",
   "execution_count": 43,
   "metadata": {
    "collapsed": false
   },
   "outputs": [
    {
     "data": {
      "text/plain": [
       "find_collision2 (generic function with 1 method)"
      ]
     },
     "execution_count": 43,
     "metadata": {},
     "output_type": "execute_result"
    }
   ],
   "source": [
    "function find_collision2(x, y, r)\n",
    "    \n",
    "    collision = (Inf, Inf)\n",
    "    \n",
    "    if abs(y) < r\n",
    "    \n",
    "        x_collision = -sqrt(r^2 - y^2)\n",
    "        collision = (x_collision, y)\n",
    "    end\n",
    "    \n",
    "    collision\n",
    "end"
   ]
  },
  {
   "cell_type": "code",
   "execution_count": 44,
   "metadata": {
    "collapsed": false
   },
   "outputs": [
    {
     "data": {
      "text/plain": [
       "run2 (generic function with 1 method)"
      ]
     },
     "execution_count": 44,
     "metadata": {},
     "output_type": "execute_result"
    }
   ],
   "source": [
    "function run2(N)\n",
    "    for i in 1:N\n",
    "        y = -10. + 20*rand()\n",
    "        find_collision2(-10., y, 1.)\n",
    "    end\n",
    "end"
   ]
  },
  {
   "cell_type": "code",
   "execution_count": 45,
   "metadata": {
    "collapsed": false
   },
   "outputs": [],
   "source": [
    "run2(10)"
   ]
  },
  {
   "cell_type": "code",
   "execution_count": 46,
   "metadata": {
    "collapsed": false
   },
   "outputs": [
    {
     "name": "stdout",
     "output_type": "stream",
     "text": [
      "elapsed time: 0.914406089 seconds (96 bytes allocated)\n"
     ]
    }
   ],
   "source": [
    "@time run2(10^8)"
   ]
  },
  {
   "cell_type": "markdown",
   "metadata": {},
   "source": [
    "We see that the execution time is cut in half, and there is no longer an excessive allocation (although this can often result in a more dramatic improvement for a more complicated function).\n",
    "\n",
    "The difference is that in the first version, the type of the variable can change from boolean to tuple, whereas in the second version it is always a tuple. Type instability is the first thing to look for when there is a problem with excessive allocations.\n",
    "\n",
    "(3) Avoid type instability."
   ]
  },
  {
   "cell_type": "markdown",
   "metadata": {},
   "source": [
    "## A tool: `@code_warntype`"
   ]
  },
  {
   "cell_type": "markdown",
   "metadata": {},
   "source": [
    "A useful tool to detect type instability is `@code_warntype`, available *only* in Julia v0.4. This should, for now, be run from the REPL. We will see an example using the above functions."
   ]
  },
  {
   "cell_type": "markdown",
   "metadata": {},
   "source": [
    "## Another tool: Profiling "
   ]
  },
  {
   "cell_type": "markdown",
   "metadata": {},
   "source": [
    "The simplest mechanism for profiling is `@time` that we have been using; this outputs the time taken and allocations performed, but does not return this information. There are macros `@elapsed` that returns the time, and `@allocated` that returns the amount of memory allocated."
   ]
  },
  {
   "cell_type": "markdown",
   "metadata": {},
   "source": [
    "Julia has a built-in profiler:"
   ]
  },
  {
   "cell_type": "code",
   "execution_count": 55,
   "metadata": {
    "collapsed": false
   },
   "outputs": [
    {
     "data": {
      "text/plain": [
       "-0.5440211108893698"
      ]
     },
     "execution_count": 55,
     "metadata": {},
     "output_type": "execute_result"
    }
   ],
   "source": [
    "@profile sin(10)"
   ]
  },
  {
   "cell_type": "code",
   "execution_count": 56,
   "metadata": {
    "collapsed": false
   },
   "outputs": [
    {
     "name": "stdout",
     "output_type": "stream",
     "text": [
      "1 task.jl; anonymous; line: 340\n",
      " 1 ...3/IJulia/src/IJulia.jl; eventloop; line: 123\n",
      "  1 ...src/execute_request.jl; execute_request_0x535c5df2; line: 157\n",
      "   1 loading.jl; include_string; line: 97\n",
      "    1 profile.jl; anonymous; line: 14\n"
     ]
    }
   ],
   "source": [
    "Profile.print()"
   ]
  },
  {
   "cell_type": "markdown",
   "metadata": {},
   "source": [
    "There is a package `ProfileView` that gives a graphical view of the profile information."
   ]
  },
  {
   "cell_type": "markdown",
   "metadata": {},
   "source": [
    "Using a combination of these tools, it should be possible to pin down performance hot-spots."
   ]
  },
  {
   "cell_type": "markdown",
   "metadata": {},
   "source": [
    "(4) Profile!"
   ]
  }
 ],
 "metadata": {
  "kernelspec": {
   "display_name": "Julia 0.3.10-pre",
   "language": "julia",
   "name": "julia-0.3"
  },
  "language_info": {
   "name": "julia",
   "version": "0.3.10"
  }
 },
 "nbformat": 4,
 "nbformat_minor": 0
}
